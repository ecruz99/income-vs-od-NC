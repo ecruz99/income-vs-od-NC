{
 "cells": [
  {
   "cell_type": "code",
   "execution_count": 1,
   "id": "62e983ed",
   "metadata": {},
   "outputs": [],
   "source": [
    "import numpy as np\n",
    "import pandas as pd \n",
    "import matplotlib\n",
    "import os"
   ]
  },
  {
   "cell_type": "code",
   "execution_count": 5,
   "id": "59c316e2",
   "metadata": {},
   "outputs": [],
   "source": [
    "income = pd.read_csv('lapi1121_formatted.csv')"
   ]
  },
  {
   "cell_type": "code",
   "execution_count": 6,
   "id": "d351ee5f",
   "metadata": {},
   "outputs": [
    {
     "data": {
      "text/html": [
       "<div>\n",
       "<style scoped>\n",
       "    .dataframe tbody tr th:only-of-type {\n",
       "        vertical-align: middle;\n",
       "    }\n",
       "\n",
       "    .dataframe tbody tr th {\n",
       "        vertical-align: top;\n",
       "    }\n",
       "\n",
       "    .dataframe thead th {\n",
       "        text-align: right;\n",
       "    }\n",
       "</style>\n",
       "<table border=\"1\" class=\"dataframe\">\n",
       "  <thead>\n",
       "    <tr style=\"text-align: right;\">\n",
       "      <th></th>\n",
       "      <th>Region</th>\n",
       "      <th>2018</th>\n",
       "      <th>2019</th>\n",
       "      <th>2020</th>\n",
       "    </tr>\n",
       "  </thead>\n",
       "  <tbody>\n",
       "    <tr>\n",
       "      <th>0</th>\n",
       "      <td>Alamance</td>\n",
       "      <td>39742</td>\n",
       "      <td>41256</td>\n",
       "      <td>43973</td>\n",
       "    </tr>\n",
       "    <tr>\n",
       "      <th>1</th>\n",
       "      <td>Alexander</td>\n",
       "      <td>36539</td>\n",
       "      <td>37758</td>\n",
       "      <td>40176</td>\n",
       "    </tr>\n",
       "    <tr>\n",
       "      <th>2</th>\n",
       "      <td>Alleghany</td>\n",
       "      <td>36576</td>\n",
       "      <td>37987</td>\n",
       "      <td>40599</td>\n",
       "    </tr>\n",
       "    <tr>\n",
       "      <th>3</th>\n",
       "      <td>Anson</td>\n",
       "      <td>35135</td>\n",
       "      <td>37741</td>\n",
       "      <td>38785</td>\n",
       "    </tr>\n",
       "    <tr>\n",
       "      <th>4</th>\n",
       "      <td>Ashe</td>\n",
       "      <td>34791</td>\n",
       "      <td>36643</td>\n",
       "      <td>39612</td>\n",
       "    </tr>\n",
       "  </tbody>\n",
       "</table>\n",
       "</div>"
      ],
      "text/plain": [
       "      Region   2018   2019   2020\n",
       "0   Alamance  39742  41256  43973\n",
       "1  Alexander  36539  37758  40176\n",
       "2  Alleghany  36576  37987  40599\n",
       "3      Anson  35135  37741  38785\n",
       "4       Ashe  34791  36643  39612"
      ]
     },
     "execution_count": 6,
     "metadata": {},
     "output_type": "execute_result"
    }
   ],
   "source": [
    "years = ['2018', '2019', '2020']\n",
    "for year in years:\n",
    "    income[year] = income[year].str.split(',').str.join('').astype('int')\n",
    "income.head()"
   ]
  },
  {
   "cell_type": "code",
   "execution_count": 7,
   "id": "2ca890bf",
   "metadata": {},
   "outputs": [],
   "source": [
    "income.to_csv(os.getcwd() + '/income_final.csv', index=False)"
   ]
  },
  {
   "cell_type": "code",
   "execution_count": 8,
   "id": "46626f63",
   "metadata": {},
   "outputs": [
    {
     "data": {
      "text/html": [
       "<div>\n",
       "<style scoped>\n",
       "    .dataframe tbody tr th:only-of-type {\n",
       "        vertical-align: middle;\n",
       "    }\n",
       "\n",
       "    .dataframe tbody tr th {\n",
       "        vertical-align: top;\n",
       "    }\n",
       "\n",
       "    .dataframe thead th {\n",
       "        text-align: right;\n",
       "    }\n",
       "</style>\n",
       "<table border=\"1\" class=\"dataframe\">\n",
       "  <thead>\n",
       "    <tr style=\"text-align: right;\">\n",
       "      <th></th>\n",
       "      <th>Region</th>\n",
       "      <th>2018</th>\n",
       "      <th>2019</th>\n",
       "      <th>2020</th>\n",
       "    </tr>\n",
       "  </thead>\n",
       "  <tbody>\n",
       "    <tr>\n",
       "      <th>0</th>\n",
       "      <td>Alamance</td>\n",
       "      <td>39742</td>\n",
       "      <td>41256</td>\n",
       "      <td>43973</td>\n",
       "    </tr>\n",
       "    <tr>\n",
       "      <th>1</th>\n",
       "      <td>Alexander</td>\n",
       "      <td>36539</td>\n",
       "      <td>37758</td>\n",
       "      <td>40176</td>\n",
       "    </tr>\n",
       "    <tr>\n",
       "      <th>2</th>\n",
       "      <td>Alleghany</td>\n",
       "      <td>36576</td>\n",
       "      <td>37987</td>\n",
       "      <td>40599</td>\n",
       "    </tr>\n",
       "    <tr>\n",
       "      <th>3</th>\n",
       "      <td>Anson</td>\n",
       "      <td>35135</td>\n",
       "      <td>37741</td>\n",
       "      <td>38785</td>\n",
       "    </tr>\n",
       "    <tr>\n",
       "      <th>4</th>\n",
       "      <td>Ashe</td>\n",
       "      <td>34791</td>\n",
       "      <td>36643</td>\n",
       "      <td>39612</td>\n",
       "    </tr>\n",
       "  </tbody>\n",
       "</table>\n",
       "</div>"
      ],
      "text/plain": [
       "      Region   2018   2019   2020\n",
       "0   Alamance  39742  41256  43973\n",
       "1  Alexander  36539  37758  40176\n",
       "2  Alleghany  36576  37987  40599\n",
       "3      Anson  35135  37741  38785\n",
       "4       Ashe  34791  36643  39612"
      ]
     },
     "execution_count": 8,
     "metadata": {},
     "output_type": "execute_result"
    }
   ],
   "source": [
    "income_new = pd.read_csv('income.csv')\n",
    "income_new.head()"
   ]
  },
  {
   "cell_type": "code",
   "execution_count": null,
   "id": "d8a970ee",
   "metadata": {},
   "outputs": [],
   "source": []
  }
 ],
 "metadata": {
  "kernelspec": {
   "display_name": "Python 3 (ipykernel)",
   "language": "python",
   "name": "python3"
  },
  "language_info": {
   "codemirror_mode": {
    "name": "ipython",
    "version": 3
   },
   "file_extension": ".py",
   "mimetype": "text/x-python",
   "name": "python",
   "nbconvert_exporter": "python",
   "pygments_lexer": "ipython3",
   "version": "3.9.12"
  }
 },
 "nbformat": 4,
 "nbformat_minor": 5
}
